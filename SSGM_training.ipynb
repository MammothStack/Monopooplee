{
 "cells": [
  {
   "cell_type": "markdown",
   "metadata": {},
   "source": [
    "# Introduction\n",
    "\n",
    "This is the jupyter notebook that contains all the configurations and running process to create and train the agents. The repository is cloned from [this](https://github.com/MammothStack/SingleSellerMarketGame) github repository:\n",
    "The rules to monopoly and what this game is based on where taken from [this](http://www.math.yorku.ca/~zabrocki/math2042/Monopoly/prices.html) website\n",
    "\n",
    "\n"
   ]
  },
  {
   "cell_type": "markdown",
   "metadata": {},
   "source": [
    "# Imports"
   ]
  },
  {
   "cell_type": "markdown",
   "metadata": {},
   "source": [
    "## General"
   ]
  },
  {
   "cell_type": "code",
   "execution_count": 91,
   "metadata": {},
   "outputs": [],
   "source": [
    "import pandas as pd\n",
    "import numpy as np\n",
    "import pprint\n",
    "import time\n",
    "import datetime\n",
    "import sys\n",
    "import os\n",
    "import random\n",
    "from random import randrange\n",
    "from IPython.display import clear_output\n",
    "import matplotlib.pyplot as plt\n",
    "from pandas.plotting import scatter_matrix"
   ]
  },
  {
   "cell_type": "markdown",
   "metadata": {},
   "source": [
    "## tensorflow"
   ]
  },
  {
   "cell_type": "code",
   "execution_count": 92,
   "metadata": {},
   "outputs": [],
   "source": [
    "import tensorflowjs as tfjs\n",
    "from tensorflow.keras.layers import Dense\n",
    "from tensorflow.keras.layers import Dropout\n",
    "from tensorflow.keras.layers import Flatten\n",
    "from tensorflow.keras.layers import Input\n",
    "from tensorflow.keras.layers import concatenate\n",
    "from tensorflow.keras.models import Sequential\n",
    "from tensorflow.keras.models import Model\n",
    "from tensorflow.keras.models import load_model\n",
    "from tensorflow.keras.models import model_from_json"
   ]
  },
  {
   "cell_type": "markdown",
   "metadata": {},
   "source": [
    "## Repo imports"
   ]
  },
  {
   "cell_type": "code",
   "execution_count": 93,
   "metadata": {},
   "outputs": [],
   "source": [
    "from src import GameController, Board, BoardError, Agent, OperationModel\n",
    "from src.player import load_operation_model\n",
    "from src.controller import get_game_controllers\n"
   ]
  },
  {
   "cell_type": "code",
   "execution_count": 94,
   "metadata": {},
   "outputs": [],
   "source": [
    "from tests import test_board_information"
   ]
  },
  {
   "cell_type": "markdown",
   "metadata": {},
   "source": [
    "## Reloading imports before execution"
   ]
  },
  {
   "cell_type": "code",
   "execution_count": 95,
   "metadata": {},
   "outputs": [
    {
     "name": "stdout",
     "output_type": "stream",
     "text": [
      "The autoreload extension is already loaded. To reload it, use:\n",
      "  %reload_ext autoreload\n"
     ]
    }
   ],
   "source": [
    "%load_ext autoreload"
   ]
  },
  {
   "cell_type": "code",
   "execution_count": 96,
   "metadata": {},
   "outputs": [],
   "source": [
    "%autoreload 1"
   ]
  },
  {
   "cell_type": "code",
   "execution_count": 97,
   "metadata": {},
   "outputs": [],
   "source": [
    "%aimport src.controller"
   ]
  },
  {
   "cell_type": "code",
   "execution_count": 98,
   "metadata": {},
   "outputs": [],
   "source": [
    "%aimport src.player"
   ]
  },
  {
   "cell_type": "code",
   "execution_count": 129,
   "metadata": {},
   "outputs": [],
   "source": [
    "%aimport src.game"
   ]
  },
  {
   "cell_type": "code",
   "execution_count": 130,
   "metadata": {},
   "outputs": [
    {
     "name": "stdout",
     "output_type": "stream",
     "text": [
      "Modules to reload:\n",
      "src.Board src.controller src.game src.player\n",
      "\n",
      "Modules to skip:\n",
      "\n"
     ]
    }
   ],
   "source": [
    "%aimport"
   ]
  },
  {
   "cell_type": "markdown",
   "metadata": {},
   "source": [
    "# Testing"
   ]
  },
  {
   "cell_type": "code",
   "execution_count": 100,
   "metadata": {},
   "outputs": [
    {
     "name": "stderr",
     "output_type": "stream",
     "text": [
      ".............................................................................................................................\n",
      "----------------------------------------------------------------------\n",
      "Ran 125 tests in 4.149s\n",
      "\n",
      "OK\n"
     ]
    },
    {
     "data": {
      "text/plain": [
       "<unittest.runner.TextTestResult run=125 errors=0 failures=0>"
      ]
     },
     "execution_count": 100,
     "metadata": {},
     "output_type": "execute_result"
    }
   ],
   "source": [
    "import unittest\n",
    "loader = unittest.TestLoader()\n",
    "start_dir = \"tests\"\n",
    "suite = loader.discover(start_dir)\n",
    "\n",
    "runner = unittest.TextTestRunner()\n",
    "runner.run(suite)"
   ]
  },
  {
   "cell_type": "markdown",
   "metadata": {},
   "source": [
    "## Initialise Models\n",
    "\n",
    "Here the Operation models and Agents are initialized. Here is where the tinkering starts. Things such as the learning rate, the rate at which the operation model makes random actions, etc, can be set here. The keras models are also initialized here."
   ]
  },
  {
   "cell_type": "code",
   "execution_count": 165,
   "metadata": {},
   "outputs": [],
   "source": [
    "def init_purchase_operation_model(name, level, epsilon_decay, rho_mode=1):\n",
    "    k_model = init_purchase_model(name=name, loss=\"binary_crossentropy\", optimizer=\"adam\")\n",
    "    om = OperationModel(model=k_model, operation=\"purchase\", name=name,loss=\"binary_crossentropy\", \n",
    "                        optimizer=\"adam\", true_threshold=0.5, single_label=True, \n",
    "                        rho=level, rho_mode=rho_mode, gamma=0.7,\n",
    "                       epsilon_decay=epsilon_decay)\n",
    "    \n",
    "    return om"
   ]
  },
  {
   "cell_type": "code",
   "execution_count": 212,
   "metadata": {},
   "outputs": [],
   "source": [
    "def init_purchase_model(input_shape=(393,), name=None, loss=\"mse\", optimizer=\"adam\"):\n",
    "    model = Sequential(name=name + \"_purchase\")\n",
    "    model.add(Dense(input_shape=input_shape, units=256, activation=\"tanh\"))\n",
    "    model.add(Dropout(0.2))\n",
    "    model.add(Dense(units=128, activation=\"tanh\"))\n",
    "    model.add(Dropout(0.2))\n",
    "    model.add(Dense(units=64, activation=\"tanh\"))\n",
    "    model.add(Dropout(0.2))\n",
    "    model.add(Dense(units=32, activation=\"tanh\"))\n",
    "    model.add(Dropout(0.2))\n",
    "    model.add(Dense(units=2, activation=\"linear\"))\n",
    "\n",
    "    model.compile(loss=loss, optimizer=optimizer, metrics=[\"accuracy\"])\n",
    "        \n",
    "    return model"
   ]
  },
  {
   "cell_type": "code",
   "execution_count": 213,
   "metadata": {},
   "outputs": [],
   "source": [
    "def init_up_down_grade_operation_model(name, level, epsilon_decay):\n",
    "    k_model = init_up_down_grade_model(name=name, loss=\"mse\", optimizer=\"adam\")\n",
    "    om = OperationModel(model=k_model, operation=\"up_down_grade\", name=name,loss=\"mse\", \n",
    "                        optimizer=\"adam\", true_threshold=0.5, single_label=True, \n",
    "                        rho=level, rho_mode=1, gamma=0.7,\n",
    "                       epsilon_decay=epsilon_decay)\n",
    "    \n",
    "    return om"
   ]
  },
  {
   "cell_type": "code",
   "execution_count": 214,
   "metadata": {},
   "outputs": [],
   "source": [
    "def init_up_down_grade_model(input_shape=(393,), name=None, loss=\"mse\", optimizer=\"adam\"):\n",
    "    model = Sequential(name=name + \"_up_down_grade\")\n",
    "    model.add(Dense(input_shape=input_shape, units=256, activation=\"tanh\"))\n",
    "    model.add(Dropout(0.2))\n",
    "    model.add(Dense(units=128, activation=\"tanh\"))\n",
    "    model.add(Dropout(0.1))\n",
    "    model.add(Dense(units=64, activation=\"tanh\"))\n",
    "    model.add(Dropout(0.1))\n",
    "    model.add(Dense(units=64, activation=\"tanh\"))\n",
    "    model.add(Dropout(0.1))\n",
    "    model.add(Dense(units=57, activation=\"linear\"))\n",
    "    \n",
    "    model.compile(loss=\"mse\", optimizer=\"adam\", metrics=[\"accuracy\"])\n",
    "        \n",
    "    return model\n",
    "                             "
   ]
  },
  {
   "cell_type": "code",
   "execution_count": 215,
   "metadata": {},
   "outputs": [],
   "source": [
    "def init_trade_offer_operation_model(name, level=3):\n",
    "    k_model = init_trade_offer_model(name=name)\n",
    "    om = OperationModel(model=k_model, operation=\"trade_offer\", name=name,loss=\"mse\", \n",
    "                        optimizer=\"adam\", true_threshold=0.5, single_label=False, \n",
    "                        rho=level, rho_mode=1, gamma=0.7)\n",
    "    \n",
    "    return om"
   ]
  },
  {
   "cell_type": "code",
   "execution_count": 216,
   "metadata": {},
   "outputs": [],
   "source": [
    "def init_trade_offer_model(input_shape=(616,), name=None):\n",
    "    \n",
    "    inp = Input(input_shape)\n",
    "    \n",
    "    x_0 = Dense(256, activation=\"relu\")(inp)\n",
    "    x_0 = Dropout(0.2)(x_0)\n",
    "    x_0 = Dense(128, activation=\"relu\")(x_0)\n",
    "    x_0 = Dropout(0.2)(x_0)\n",
    "    x_0 = Dense(64, activation=\"relu\")(x_0)\n",
    "    x_0 = Dropout(0.2)(x_0)\n",
    "    #m_x0 = Model(inputs=inp_0, outputs=x_0)\n",
    "    \n",
    "    y_0 = Dense(256, activation=\"relu\")(inp)\n",
    "    #y_0 = Dropout(0.2)(y_0)\n",
    "    y_0 = Dense(128, activation=\"relu\")(y_0)\n",
    "    #y_0 = Dropout(0.2)(y_0)\n",
    "    y_0 = Dense(64, activation=\"relu\")(y_0)\n",
    "    #y_0 = Dropout(0.2)(y_0)\n",
    "    #m_y0 = Model(inputs=inp_0, outputs=y_0)\n",
    "    \n",
    "    c_0 = concatenate([x_0, y_0])\n",
    "    \n",
    "    x_1 = Dense(64, activation=\"relu\")(c_0)\n",
    "    x_1 = Dropout(0.2)(x_1)\n",
    "    x_1 = Dense(56, activation=\"relu\")(x_1)\n",
    "    x_1 = Dropout(0.2)(x_1)\n",
    "    x_1 = Dense(56, activation=\"relu\")(x_1)\n",
    "    \n",
    "    y_1 = Dense(64, activation=\"relu\")(c_0)\n",
    "    #y_1 = Dropout(0.2)(y_1)\n",
    "    y_1 = Dense(16, activation=\"relu\")(y_1)\n",
    "    #y_1 = Dropout(0.2)(y_1)\n",
    "    y_1 = Dense(4)(y_1)\n",
    "    \n",
    "    c_1 = concatenate([x_1, y_1])\n",
    "    \n",
    "    x_2 = Dense(56, activation=\"relu\")(c_1)\n",
    "    x_2 = Dropout(0.2)(x_2)\n",
    "    x_2 = Dense(56, activation=\"relu\")(x_2)\n",
    "    \n",
    "    y_2 = Dense(32, activation=\"relu\")(c_1)\n",
    "    #y_2 = Dropout(0.2)(y_2)\n",
    "    y_2 = Dense(4, activation=\"relu\")(y_2)\n",
    "    y_2 = Dense(1, activation=\"linear\")(y_2)\n",
    "    \n",
    "    model = Model(inp, [x_2, y_2], name=name + \"_trade_offer\")\n",
    "    \n",
    "    model.compile(loss=[\"categorical_crossentropy\", \"mse\"], optimizer=\"adam\", metrics=[\"accuracy\"])\n",
    "        \n",
    "    return model"
   ]
  },
  {
   "cell_type": "code",
   "execution_count": 217,
   "metadata": {},
   "outputs": [],
   "source": [
    "def init_trade_decision_operation_model(name, level=3):\n",
    "    k_model = init_trade_decision_model(name=name, loss=\"mse\", optimizer=\"adam\")\n",
    "    om = OperationModel(model=k_model, operation=\"trade_decision\", name=name,loss=\"mse\", \n",
    "                        optimizer=\"adam\", true_threshold=0.5, single_label=True, \n",
    "                        rho=level, rho_mode=1, gamma=0.7)\n",
    "    return om"
   ]
  },
  {
   "cell_type": "code",
   "execution_count": 218,
   "metadata": {},
   "outputs": [],
   "source": [
    "def init_trade_decision_model(input_shape=(700,), name=None, loss=\"mse\", optimizer=\"adam\"):\n",
    "    model = Sequential(name=name + \"_trade_decision\")\n",
    "    model.add(Dense(input_shape=input_shape, units=256, activation=\"tanh\"))\n",
    "    model.add(Dropout(0.2))\n",
    "    model.add(Dense(units=128, activation=\"tanh\"))\n",
    "    model.add(Dropout(0.1))\n",
    "    model.add(Dense(units=64, activation=\"tanh\"))\n",
    "    model.add(Dropout(0.1))\n",
    "    model.add(Dense(units=2, activation=\"tanh\"))\n",
    "    model.add(Dropout(0.1))\n",
    "    model.add(Dense(units=1, activation=\"linear\"))\n",
    "    \n",
    "    model.compile(loss=\"mse\", optimizer=\"adam\", metrics=[\"accuracy\"])\n",
    "\n",
    "        \n",
    "    return model"
   ]
  },
  {
   "cell_type": "markdown",
   "metadata": {},
   "source": [
    "## Get new pool"
   ]
  },
  {
   "cell_type": "code",
   "execution_count": 219,
   "metadata": {},
   "outputs": [],
   "source": [
    "from random import sample\n",
    "\n",
    "def get_new_pool(size, random=False, extend=None):\n",
    "\n",
    "    colors = ['Amaranth','Amber','Amethyst','Apricot','Aquamarine',\n",
    "          'Azure','Baby-blue','Beige','Black','Blue','Blue-green',\n",
    "          'Blue-violet','Blush','Bronze','Brown','Burgundy',\n",
    "          'Byzantium','Carmine','Cerise','Cerulean','Champagne',\n",
    "          'Chartreuse-green','Chocolate','Cobalt-blue','Coffee',\n",
    "          'Copper','Coral','Crimson','Cyan','Desert-sand',\n",
    "          'Electric-blue','Emerald','Erin','Gold','Gray','Green',\n",
    "          'Harlequin','Indigo','Ivory','Jade','Jungle-green',\n",
    "          'Lavender','Lemon','Lilac','Lime','Magenta','Magenta-rose',\n",
    "          'Maroon','Mauve','Navy-blue','Ocher','Olive','Orange',\n",
    "          'Orange-red','Orchid','Peach','Pear','Periwinkle',\n",
    "          'Persian-blue','Pink','Plum','Prussian-blue','Puce',\n",
    "          'Purple','Raspberry','Red','Red-violet','Rose','Ruby',\n",
    "          'Salmon','Sangria','Sapphire','Scarlet','Silver',\n",
    "          'Slate-gray','Spring-bud','Spring-green','Tan','Taupe',\n",
    "          'Teal','Turquoise','Ultramarine','Violet','Viridian',\n",
    "          'White','Yellow']\n",
    "    \n",
    "    if extend is None:\n",
    "        if size > len(colors):\n",
    "            raise ValueError\n",
    "        \n",
    "        sam = sample(colors, size)\n",
    "        pool = []\n",
    "    else:\n",
    "        if size + len(extend) > len(colors):\n",
    "            raise ValueError\n",
    "        \n",
    "        extend_names = [p.name for p in extend]\n",
    "        r_colors = [color for color in colors if color not in extend_names]\n",
    "        sam = sample(r_colors, size)\n",
    "\n",
    "        pool = extend\n",
    "    \n",
    "    for color in sam:\n",
    "        p_m = init_purchase_operation_model(color, np.random.randint(1,6), epsilon_decay=0.995, rho_mode=1)\n",
    "        u_m = init_up_down_grade_operation_model(color, np.random.randint(1,6), epsilon_decay=0.997)\n",
    "        t_o_m = init_trade_offer_operation_model(color, np.random.randint(1,6))\n",
    "        t_d_m = init_trade_decision_operation_model(color, np.random.randint(1,6))\n",
    "        \n",
    "        pool.append(Agent(color, p_m, u_m, t_o_m, t_d_m))\n",
    "    \n",
    "    return pool\n",
    "    "
   ]
  },
  {
   "cell_type": "code",
   "execution_count": 235,
   "metadata": {},
   "outputs": [],
   "source": [
    "def add_new_operation_model(player, purchase=True, up_down_grade=True, trade_offer=True, trade_decision=True):\n",
    "    color = player.name\n",
    "    if purchase:\n",
    "        p_m = init_purchase_operation_model(color)\n",
    "        player.models[\"purchase\"] = p_m\n",
    "        \n",
    "    if up_down_grade:\n",
    "        u_m = init_up_down_grade_operation_model(color)\n",
    "        player.models[\"up_down_grade\"] = u_m\n",
    "        \n",
    "    if trade_offer:\n",
    "        t_o_m = init_trade_offer_operation_model(color)\n",
    "        player.models[\"trade_offer\"] = t_o_m\n",
    "        \n",
    "    if trade_decision:\n",
    "        t_d_m = init_trade_decision_operation_model(color)\n",
    "        player.models[\"trade_decision\"] =  t_d_m\n",
    "        \n",
    "    #return player"
   ]
  },
  {
   "cell_type": "markdown",
   "metadata": {},
   "source": [
    "## Setup Launch"
   ]
  },
  {
   "cell_type": "code",
   "execution_count": 241,
   "metadata": {},
   "outputs": [],
   "source": [
    "def run_game(\n",
    "    controller, \n",
    "    iterations, \n",
    "    purchase=True, \n",
    "    up=True, \n",
    "    trade=True, \n",
    "    game_results=True,\n",
    "    verbose=False):\n",
    "    dfs = []\n",
    "    for i in range(iterations):\n",
    "        if verbose:\n",
    "            clear_output(wait=True)\n",
    "            \n",
    "        results = controller.start_game(purchase=purchase,up_down_grade=up, trade=trade)\n",
    "        dfs.append(pd.DataFrame.from_dict(results))\n",
    "        controller.reset_game()\n",
    "        \n",
    "        if verbose:\n",
    "            print(\"Current progress:\", np.round(((i+1)/iterations) * 100, 2), \"%\")\n",
    "        \n",
    "    if game_results:\n",
    "        summary = pd.concat(dfs,axis=1)\n",
    "        summary = summary.T\n",
    "        summary.reset_index(drop=True, inplace=True)\n",
    "        return summary\n",
    "        "
   ]
  },
  {
   "cell_type": "code",
   "execution_count": 242,
   "metadata": {},
   "outputs": [],
   "source": [
    "def run_games(bcs, iterations=3, up=True, trade=True, results=True, graph=True):\n",
    "    summary_dfs = []\n",
    "    summary_logs = []\n",
    "    plt.close(\"all\")\n",
    "    \n",
    "    for bc in bcs:\n",
    "        print(list(bc.players.keys()))\n",
    "        #print(bc.dynamic_reward_risk_level)\n",
    "        summary = run_game(bc, iterations, up=up, trade=trade, game_results=results)\n",
    "        \n",
    "        if results and graph:\n",
    "            graph_owned(summary, str(list(bc.players.keys())))\n",
    "            if up:\n",
    "                graph_level(summary, str(list(bc.players.keys())))\n",
    "            \n",
    "        summary_dfs.append(summary)\n",
    "        summary_logs.append(logs)\n",
    "        \n",
    "    return summary_dfs, summary_logs"
   ]
  },
  {
   "cell_type": "code",
   "execution_count": 243,
   "metadata": {},
   "outputs": [],
   "source": [
    "def graph_level(summary, name, save=False):\n",
    "    x = summary.index\n",
    "    y = summary[\"prop_average_level\"]\n",
    "    \n",
    "    labels, levels = pd.factorize(summary[\"name\"])\n",
    "    colors = labels * (100 / (len(summary[\"name\"].unique())))\n",
    "\n",
    "    plt.figure(figsize=(20,10))\n",
    "    plt.scatter(x, y, alpha=0.4, c=colors, cmap='plasma')\n",
    "    plt.xlim(0, len(summary))\n",
    "    plt.ylim(0, 6)\n",
    "    plt.title = name + \" level\"\n",
    "\n",
    "    z = np.polyfit(x, y, 1)\n",
    "    p = np.poly1d(z)\n",
    "    plt.plot(x,p(x),\"r--\")\n",
    "\n",
    "    if save:\n",
    "        plt.savefig(str(list(bc.players.keys())) + \".png\", bbox_inches='tight')"
   ]
  },
  {
   "cell_type": "code",
   "execution_count": 244,
   "metadata": {},
   "outputs": [],
   "source": [
    "def graph_owned(summary, name, save=False):\n",
    "    x = summary.index\n",
    "    y = summary[\"prop_owned\"]\n",
    "    \n",
    "    labels, levels = pd.factorize(summary[\"name\"])\n",
    "    colors = labels * (100 / (len(summary[\"name\"].unique())))\n",
    "    size = summary[\"prop_average_level\"].values * 100\n",
    "\n",
    "    plt.figure(figsize=(20,10))\n",
    "    plt.title = name + \" owned\"\n",
    "    plt.scatter(x, y, c=colors, s=size.tolist(), alpha=0.4, cmap='plasma')\n",
    "    plt.xlim(0, len(summary))\n",
    "    plt.ylim(0, 28)\n",
    "    \n",
    "\n",
    "    z = np.polyfit(x, y, 1)\n",
    "    p = np.poly1d(z)\n",
    "    plt.plot(x,p(x),\"r--\")\n",
    "\n",
    "    if save:\n",
    "        plt.savefig(str(list(bc.players.keys())) + \".png\", bbox_inches='tight')"
   ]
  },
  {
   "cell_type": "code",
   "execution_count": 245,
   "metadata": {},
   "outputs": [],
   "source": [
    "def graph_game_levels(log_df):\n",
    "    x = list(log_df.index)\n",
    "    y = list(log_df.columns)\n",
    "    s = log_df.values * 20\n",
    "\n",
    "    xe = [[v] * len(y) for v in x]\n",
    "    ye = [y] * len(x)\n",
    "    se = s.tolist()\n",
    "    \n",
    "    plt.figure(figsize=(20,10))\n",
    "    plt.title = name + \" levels\"\n",
    "\n",
    "    for i in range(len(xe)):\n",
    "        plt.scatter(xe[i], ye[i], s=se[i], c=30)"
   ]
  },
  {
   "cell_type": "markdown",
   "metadata": {},
   "source": [
    "## Launch"
   ]
  },
  {
   "cell_type": "code",
   "execution_count": 246,
   "metadata": {},
   "outputs": [],
   "source": [
    "pool = get_new_pool(4, random=True)"
   ]
  },
  {
   "cell_type": "code",
   "execution_count": 247,
   "metadata": {},
   "outputs": [
    {
     "data": {
      "text/plain": [
       "[Agent, 'Copper', [OperationModel('Copper', 'purchase', 0, 1.0, 0), OperationModel('Copper', 'up_down_grade', 0, 1.0, 0), OperationModel('Copper', 'trade_offer', 0, 1.0, 0), OperationModel('Copper', 'trade_decision', 0, 1.0, 0)],\n",
       " Agent, 'Violet', [OperationModel('Violet', 'purchase', 0, 1.0, 0), OperationModel('Violet', 'up_down_grade', 0, 1.0, 0), OperationModel('Violet', 'trade_offer', 0, 1.0, 0), OperationModel('Violet', 'trade_decision', 0, 1.0, 0)],\n",
       " Agent, 'Coral', [OperationModel('Coral', 'purchase', 0, 1.0, 0), OperationModel('Coral', 'up_down_grade', 0, 1.0, 0), OperationModel('Coral', 'trade_offer', 0, 1.0, 0), OperationModel('Coral', 'trade_decision', 0, 1.0, 0)],\n",
       " Agent, 'Apricot', [OperationModel('Apricot', 'purchase', 0, 1.0, 0), OperationModel('Apricot', 'up_down_grade', 0, 1.0, 0), OperationModel('Apricot', 'trade_offer', 0, 1.0, 0), OperationModel('Apricot', 'trade_decision', 0, 1.0, 0)]]"
      ]
     },
     "execution_count": 247,
     "metadata": {},
     "output_type": "execute_result"
    }
   ],
   "source": [
    "pool"
   ]
  },
  {
   "cell_type": "code",
   "execution_count": 248,
   "metadata": {},
   "outputs": [],
   "source": [
    "contr = get_game_controllers(\n",
    "    pool=pool, \n",
    "    n_players=2, \n",
    "    config={\n",
    "        \"max_turn\":10,\n",
    "        \"available_houses\":32,\n",
    "        \"available_hotels\":12,\n",
    "        \"starting_cash\":1500,\n",
    "        \"upgrade_limit\":5, \n",
    "        \"reward_scalars\":{\n",
    "            \"cash\": 0.005, \n",
    "            \"value\": 0.01, \n",
    "            \"rent\": 0.005, \n",
    "            \"monopoly\": 1.0\n",
    "        }\n",
    "    }\n",
    ")"
   ]
  },
  {
   "cell_type": "code",
   "execution_count": 249,
   "metadata": {},
   "outputs": [
    {
     "name": "stdout",
     "output_type": "stream",
     "text": [
      "['Copper', 'Coral']\n"
     ]
    },
    {
     "ename": "TypeError",
     "evalue": "No loop matching the specified signature and casting\nwas found for ufunc lstsq_n",
     "output_type": "error",
     "traceback": [
      "\u001b[0;31m---------------------------------------------------------------------------\u001b[0m",
      "\u001b[0;31mTypeError\u001b[0m                                 Traceback (most recent call last)",
      "\u001b[0;32m<ipython-input-249-a95d063c7f3f>\u001b[0m in \u001b[0;36m<module>\u001b[0;34m\u001b[0m\n\u001b[0;32m----> 1\u001b[0;31m \u001b[0msummary_dfs\u001b[0m \u001b[0;34m=\u001b[0m \u001b[0mrun_games\u001b[0m\u001b[0;34m(\u001b[0m\u001b[0mcontr\u001b[0m\u001b[0;34m,\u001b[0m \u001b[0miterations\u001b[0m\u001b[0;34m=\u001b[0m\u001b[0;36m10\u001b[0m\u001b[0;34m,\u001b[0m \u001b[0mup\u001b[0m\u001b[0;34m=\u001b[0m\u001b[0;32mFalse\u001b[0m\u001b[0;34m,\u001b[0m \u001b[0mtrade\u001b[0m\u001b[0;34m=\u001b[0m\u001b[0;32mFalse\u001b[0m\u001b[0;34m,\u001b[0m \u001b[0mresults\u001b[0m\u001b[0;34m=\u001b[0m\u001b[0;32mTrue\u001b[0m\u001b[0;34m)\u001b[0m\u001b[0;34m\u001b[0m\u001b[0;34m\u001b[0m\u001b[0m\n\u001b[0m",
      "\u001b[0;32m<ipython-input-242-ad3edc998888>\u001b[0m in \u001b[0;36mrun_games\u001b[0;34m(bcs, iterations, up, trade, results, graph)\u001b[0m\n\u001b[1;32m     10\u001b[0m \u001b[0;34m\u001b[0m\u001b[0m\n\u001b[1;32m     11\u001b[0m         \u001b[0;32mif\u001b[0m \u001b[0mresults\u001b[0m \u001b[0;32mand\u001b[0m \u001b[0mgraph\u001b[0m\u001b[0;34m:\u001b[0m\u001b[0;34m\u001b[0m\u001b[0;34m\u001b[0m\u001b[0m\n\u001b[0;32m---> 12\u001b[0;31m             \u001b[0mgraph_owned\u001b[0m\u001b[0;34m(\u001b[0m\u001b[0msummary\u001b[0m\u001b[0;34m,\u001b[0m \u001b[0mstr\u001b[0m\u001b[0;34m(\u001b[0m\u001b[0mlist\u001b[0m\u001b[0;34m(\u001b[0m\u001b[0mbc\u001b[0m\u001b[0;34m.\u001b[0m\u001b[0mplayers\u001b[0m\u001b[0;34m.\u001b[0m\u001b[0mkeys\u001b[0m\u001b[0;34m(\u001b[0m\u001b[0;34m)\u001b[0m\u001b[0;34m)\u001b[0m\u001b[0;34m)\u001b[0m\u001b[0;34m)\u001b[0m\u001b[0;34m\u001b[0m\u001b[0;34m\u001b[0m\u001b[0m\n\u001b[0m\u001b[1;32m     13\u001b[0m             \u001b[0;32mif\u001b[0m \u001b[0mup\u001b[0m\u001b[0;34m:\u001b[0m\u001b[0;34m\u001b[0m\u001b[0;34m\u001b[0m\u001b[0m\n\u001b[1;32m     14\u001b[0m                 \u001b[0mgraph_level\u001b[0m\u001b[0;34m(\u001b[0m\u001b[0msummary\u001b[0m\u001b[0;34m,\u001b[0m \u001b[0mstr\u001b[0m\u001b[0;34m(\u001b[0m\u001b[0mlist\u001b[0m\u001b[0;34m(\u001b[0m\u001b[0mbc\u001b[0m\u001b[0;34m.\u001b[0m\u001b[0mplayers\u001b[0m\u001b[0;34m.\u001b[0m\u001b[0mkeys\u001b[0m\u001b[0;34m(\u001b[0m\u001b[0;34m)\u001b[0m\u001b[0;34m)\u001b[0m\u001b[0;34m)\u001b[0m\u001b[0;34m)\u001b[0m\u001b[0;34m\u001b[0m\u001b[0;34m\u001b[0m\u001b[0m\n",
      "\u001b[0;32m<ipython-input-244-0b610d1202db>\u001b[0m in \u001b[0;36mgraph_owned\u001b[0;34m(summary, name, save)\u001b[0m\n\u001b[1;32m     14\u001b[0m \u001b[0;34m\u001b[0m\u001b[0m\n\u001b[1;32m     15\u001b[0m \u001b[0;34m\u001b[0m\u001b[0m\n\u001b[0;32m---> 16\u001b[0;31m     \u001b[0mz\u001b[0m \u001b[0;34m=\u001b[0m \u001b[0mnp\u001b[0m\u001b[0;34m.\u001b[0m\u001b[0mpolyfit\u001b[0m\u001b[0;34m(\u001b[0m\u001b[0mx\u001b[0m\u001b[0;34m,\u001b[0m \u001b[0my\u001b[0m\u001b[0;34m,\u001b[0m \u001b[0;36m1\u001b[0m\u001b[0;34m)\u001b[0m\u001b[0;34m\u001b[0m\u001b[0;34m\u001b[0m\u001b[0m\n\u001b[0m\u001b[1;32m     17\u001b[0m     \u001b[0mp\u001b[0m \u001b[0;34m=\u001b[0m \u001b[0mnp\u001b[0m\u001b[0;34m.\u001b[0m\u001b[0mpoly1d\u001b[0m\u001b[0;34m(\u001b[0m\u001b[0mz\u001b[0m\u001b[0;34m)\u001b[0m\u001b[0;34m\u001b[0m\u001b[0;34m\u001b[0m\u001b[0m\n\u001b[1;32m     18\u001b[0m     \u001b[0mplt\u001b[0m\u001b[0;34m.\u001b[0m\u001b[0mplot\u001b[0m\u001b[0;34m(\u001b[0m\u001b[0mx\u001b[0m\u001b[0;34m,\u001b[0m\u001b[0mp\u001b[0m\u001b[0;34m(\u001b[0m\u001b[0mx\u001b[0m\u001b[0;34m)\u001b[0m\u001b[0;34m,\u001b[0m\u001b[0;34m\"r--\"\u001b[0m\u001b[0;34m)\u001b[0m\u001b[0;34m\u001b[0m\u001b[0;34m\u001b[0m\u001b[0m\n",
      "\u001b[0;32m~/environments/test_env/lib/python3.6/site-packages/numpy/lib/polynomial.py\u001b[0m in \u001b[0;36mpolyfit\u001b[0;34m(x, y, deg, rcond, full, w, cov)\u001b[0m\n\u001b[1;32m    578\u001b[0m     \u001b[0mscale\u001b[0m \u001b[0;34m=\u001b[0m \u001b[0mNX\u001b[0m\u001b[0;34m.\u001b[0m\u001b[0msqrt\u001b[0m\u001b[0;34m(\u001b[0m\u001b[0;34m(\u001b[0m\u001b[0mlhs\u001b[0m\u001b[0;34m*\u001b[0m\u001b[0mlhs\u001b[0m\u001b[0;34m)\u001b[0m\u001b[0;34m.\u001b[0m\u001b[0msum\u001b[0m\u001b[0;34m(\u001b[0m\u001b[0maxis\u001b[0m\u001b[0;34m=\u001b[0m\u001b[0;36m0\u001b[0m\u001b[0;34m)\u001b[0m\u001b[0;34m)\u001b[0m\u001b[0;34m\u001b[0m\u001b[0;34m\u001b[0m\u001b[0m\n\u001b[1;32m    579\u001b[0m     \u001b[0mlhs\u001b[0m \u001b[0;34m/=\u001b[0m \u001b[0mscale\u001b[0m\u001b[0;34m\u001b[0m\u001b[0;34m\u001b[0m\u001b[0m\n\u001b[0;32m--> 580\u001b[0;31m     \u001b[0mc\u001b[0m\u001b[0;34m,\u001b[0m \u001b[0mresids\u001b[0m\u001b[0;34m,\u001b[0m \u001b[0mrank\u001b[0m\u001b[0;34m,\u001b[0m \u001b[0ms\u001b[0m \u001b[0;34m=\u001b[0m \u001b[0mlstsq\u001b[0m\u001b[0;34m(\u001b[0m\u001b[0mlhs\u001b[0m\u001b[0;34m,\u001b[0m \u001b[0mrhs\u001b[0m\u001b[0;34m,\u001b[0m \u001b[0mrcond\u001b[0m\u001b[0;34m)\u001b[0m\u001b[0;34m\u001b[0m\u001b[0;34m\u001b[0m\u001b[0m\n\u001b[0m\u001b[1;32m    581\u001b[0m     \u001b[0mc\u001b[0m \u001b[0;34m=\u001b[0m \u001b[0;34m(\u001b[0m\u001b[0mc\u001b[0m\u001b[0;34m.\u001b[0m\u001b[0mT\u001b[0m\u001b[0;34m/\u001b[0m\u001b[0mscale\u001b[0m\u001b[0;34m)\u001b[0m\u001b[0;34m.\u001b[0m\u001b[0mT\u001b[0m  \u001b[0;31m# broadcast scale coefficients\u001b[0m\u001b[0;34m\u001b[0m\u001b[0;34m\u001b[0m\u001b[0m\n\u001b[1;32m    582\u001b[0m \u001b[0;34m\u001b[0m\u001b[0m\n",
      "\u001b[0;32m~/environments/test_env/lib/python3.6/site-packages/numpy/linalg/linalg.py\u001b[0m in \u001b[0;36mlstsq\u001b[0;34m(a, b, rcond)\u001b[0m\n\u001b[1;32m   2154\u001b[0m     \u001b[0msignature\u001b[0m \u001b[0;34m=\u001b[0m \u001b[0;34m'DDd->Ddid'\u001b[0m \u001b[0;32mif\u001b[0m \u001b[0misComplexType\u001b[0m\u001b[0;34m(\u001b[0m\u001b[0mt\u001b[0m\u001b[0;34m)\u001b[0m \u001b[0;32melse\u001b[0m \u001b[0;34m'ddd->ddid'\u001b[0m\u001b[0;34m\u001b[0m\u001b[0;34m\u001b[0m\u001b[0m\n\u001b[1;32m   2155\u001b[0m     \u001b[0mextobj\u001b[0m \u001b[0;34m=\u001b[0m \u001b[0mget_linalg_error_extobj\u001b[0m\u001b[0;34m(\u001b[0m\u001b[0m_raise_linalgerror_lstsq\u001b[0m\u001b[0;34m)\u001b[0m\u001b[0;34m\u001b[0m\u001b[0;34m\u001b[0m\u001b[0m\n\u001b[0;32m-> 2156\u001b[0;31m     \u001b[0mx\u001b[0m\u001b[0;34m,\u001b[0m \u001b[0mresids\u001b[0m\u001b[0;34m,\u001b[0m \u001b[0mrank\u001b[0m\u001b[0;34m,\u001b[0m \u001b[0ms\u001b[0m \u001b[0;34m=\u001b[0m \u001b[0mgufunc\u001b[0m\u001b[0;34m(\u001b[0m\u001b[0ma\u001b[0m\u001b[0;34m,\u001b[0m \u001b[0mb\u001b[0m\u001b[0;34m,\u001b[0m \u001b[0mrcond\u001b[0m\u001b[0;34m,\u001b[0m \u001b[0msignature\u001b[0m\u001b[0;34m=\u001b[0m\u001b[0msignature\u001b[0m\u001b[0;34m,\u001b[0m \u001b[0mextobj\u001b[0m\u001b[0;34m=\u001b[0m\u001b[0mextobj\u001b[0m\u001b[0;34m)\u001b[0m\u001b[0;34m\u001b[0m\u001b[0;34m\u001b[0m\u001b[0m\n\u001b[0m\u001b[1;32m   2157\u001b[0m \u001b[0;34m\u001b[0m\u001b[0m\n\u001b[1;32m   2158\u001b[0m     \u001b[0;31m# remove the axis we added\u001b[0m\u001b[0;34m\u001b[0m\u001b[0;34m\u001b[0m\u001b[0;34m\u001b[0m\u001b[0m\n",
      "\u001b[0;31mTypeError\u001b[0m: No loop matching the specified signature and casting\nwas found for ufunc lstsq_n"
     ]
    },
    {
     "data": {
      "image/png": "[encoded data removed]",
      "text/plain": [
       "<Figure size 1440x720 with 1 Axes>"
      ]
     },
     "metadata": {
      "needs_background": "light"
     },
     "output_type": "display_data"
    }
   ],
   "source": [
    "summary_dfs = run_games(contr, iterations=10, up=False, trade=False, results=True)"
   ]
  },
  {
   "cell_type": "code",
   "execution_count": null,
   "metadata": {},
   "outputs": [],
   "source": [
    "for df in summary_dfs:\n",
    "    print(df[\"name\"].unique(), df[\"prop_average_level\"].mean())"
   ]
  },
  {
   "cell_type": "code",
   "execution_count": null,
   "metadata": {},
   "outputs": [],
   "source": [
    "def get_ranked_names(summaries, category, threshold):\n",
    "    l = [(s[\"name\"].unique()[0], s[category].mean()) for s in summaries]\n",
    "    s_names = sorted(l, reverse=True, key=lambda x: x[1])\n",
    "    \n",
    "    reduced = [name[0] for name in s_names if name[1] > threshold]\n",
    "    \n",
    "    return reduced"
   ]
  }
 ],
 "metadata": {
  "kernelspec": {
   "display_name": "Python 3",
   "language": "python",
   "name": "python3"
  },
  "language_info": {
   "codemirror_mode": {
    "name": "ipython",
    "version": 3
   },
   "file_extension": ".py",
   "mimetype": "text/x-python",
   "name": "python",
   "nbconvert_exporter": "python",
   "pygments_lexer": "ipython3",
   "version": "3.6.7"
  }
 },
 "nbformat": 4,
 "nbformat_minor": 2
}
