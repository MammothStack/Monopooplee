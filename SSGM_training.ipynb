{
 "cells": [
  {
   "cell_type": "markdown",
   "metadata": {},
   "source": [
    "# Introduction\n",
    "\n",
    "This is the jupyter notebook that contains all the configurations and running process to create and train the agents. The repository is cloned from [this](https://github.com/MammothStack/SingleSellerMarketGame) github repository:\n",
    "The rules to monopoly and what this game is based on where taken from [this](http://www.math.yorku.ca/~zabrocki/math2042/Monopoly/prices.html) website\n",
    "\n",
    "\n"
   ]
  },
  {
   "cell_type": "markdown",
   "metadata": {},
   "source": [
    "# Imports"
   ]
  },
  {
   "cell_type": "markdown",
   "metadata": {},
   "source": [
    "## General"
   ]
  },
  {
   "cell_type": "code",
   "execution_count": 1,
   "metadata": {},
   "outputs": [],
   "source": [
    "import pandas as pd\n",
    "import numpy as np\n",
    "import pprint\n",
    "import time\n",
    "import datetime\n",
    "import sys\n",
    "import os\n",
    "import random\n",
    "from random import randrange\n",
    "from IPython.display import clear_output\n",
    "import matplotlib.pyplot as plt\n",
    "from pandas.plotting import scatter_matrix"
   ]
  },
  {
   "cell_type": "markdown",
   "metadata": {},
   "source": [
    "## tensorflow"
   ]
  },
  {
   "cell_type": "code",
   "execution_count": 2,
   "metadata": {},
   "outputs": [
    {
     "name": "stderr",
     "output_type": "stream",
     "text": [
      "Using TensorFlow backend.\n"
     ]
    }
   ],
   "source": [
    "import tensorflowjs as tfjs\n",
    "from tensorflow.keras.layers import Dense, Dropout, Flatten, Input\n",
    "from tensorflow.keras.layers import concatenate\n",
    "from tensorflow.keras.models import Sequential\n",
    "from tensorflow.keras.models import Model\n",
    "from tensorflow.keras.models import load_model\n",
    "from tensorflow.keras.models import model_from_json"
   ]
  },
  {
   "cell_type": "markdown",
   "metadata": {},
   "source": [
    "## Repo imports"
   ]
  },
  {
   "cell_type": "code",
   "execution_count": 3,
   "metadata": {},
   "outputs": [],
   "source": [
    "from src import GameController, Board, BoardError, Agent, OperationModel\n",
    "from src.player import load_operation_model\n",
    "from src.controller import get_game_controllers\n"
   ]
  },
  {
   "cell_type": "code",
   "execution_count": 4,
   "metadata": {},
   "outputs": [],
   "source": [
    "from tests import test_game, test_operation_model"
   ]
  },
  {
   "cell_type": "markdown",
   "metadata": {},
   "source": [
    "## Reloading imports before execution"
   ]
  },
  {
   "cell_type": "code",
   "execution_count": 5,
   "metadata": {},
   "outputs": [],
   "source": [
    "%load_ext autoreload"
   ]
  },
  {
   "cell_type": "code",
   "execution_count": 6,
   "metadata": {},
   "outputs": [],
   "source": [
    "%autoreload 1"
   ]
  },
  {
   "cell_type": "code",
   "execution_count": 7,
   "metadata": {},
   "outputs": [],
   "source": [
    "%aimport src.controller"
   ]
  },
  {
   "cell_type": "code",
   "execution_count": 8,
   "metadata": {},
   "outputs": [],
   "source": [
    "%aimport src.player"
   ]
  },
  {
   "cell_type": "code",
   "execution_count": 9,
   "metadata": {},
   "outputs": [],
   "source": [
    "%aimport src.game"
   ]
  },
  {
   "cell_type": "code",
   "execution_count": 10,
   "metadata": {},
   "outputs": [],
   "source": [
    "%aimport tests.test_game\n",
    "%aimport tests.test_operation_model"
   ]
  },
  {
   "cell_type": "code",
   "execution_count": 11,
   "metadata": {},
   "outputs": [
    {
     "name": "stdout",
     "output_type": "stream",
     "text": [
      "Modules to reload:\n",
      "src.controller src.game src.player tests.test_game tests.test_operation_model\n",
      "\n",
      "Modules to skip:\n",
      "\n"
     ]
    }
   ],
   "source": [
    "%aimport"
   ]
  },
  {
   "cell_type": "markdown",
   "metadata": {},
   "source": [
    "# Testing"
   ]
  },
  {
   "cell_type": "code",
   "execution_count": 12,
   "metadata": {},
   "outputs": [
    {
     "name": "stderr",
     "output_type": "stream",
     "text": [
      "............................................................................................................................."
     ]
    },
    {
     "name": "stdout",
     "output_type": "stream",
     "text": [
      "WARNING:tensorflow:From /home/patrick/environments/test_env/lib/python3.6/site-packages/tensorflow/python/ops/resource_variable_ops.py:435: colocate_with (from tensorflow.python.framework.ops) is deprecated and will be removed in a future version.\n",
      "Instructions for updating:\n",
      "Colocations handled automatically by placer.\n",
      "WARNING:tensorflow:From /home/patrick/environments/test_env/lib/python3.6/site-packages/tensorflow/python/keras/layers/core.py:143: calling dropout (from tensorflow.python.ops.nn_ops) with keep_prob is deprecated and will be removed in a future version.\n",
      "Instructions for updating:\n",
      "Please use `rate` instead of `keep_prob`. Rate should be set to `rate = 1 - keep_prob`.\n"
     ]
    },
    {
     "name": "stderr",
     "output_type": "stream",
     "text": [
      "....\n",
      "----------------------------------------------------------------------\n",
      "Ran 129 tests in 8.518s\n",
      "\n",
      "OK\n"
     ]
    },
    {
     "data": {
      "text/plain": [
       "<unittest.runner.TextTestResult run=129 errors=0 failures=0>"
      ]
     },
     "execution_count": 12,
     "metadata": {},
     "output_type": "execute_result"
    }
   ],
   "source": [
    "import unittest\n",
    "loader = unittest.TestLoader()\n",
    "start_dir = \"tests\"\n",
    "suite = loader.discover(start_dir)\n",
    "\n",
    "runner = unittest.TextTestRunner()\n",
    "runner.run(suite)"
   ]
  },
  {
   "cell_type": "markdown",
   "metadata": {},
   "source": [
    "## Initialise Models\n",
    "\n",
    "Here the Operation models and Agents are initialized. Here is where the tinkering starts. Things such as the learning rate, the rate at which the operation model makes random actions, etc, can be set here. The keras models are also initialized here."
   ]
  },
  {
   "cell_type": "code",
   "execution_count": 59,
   "metadata": {},
   "outputs": [],
   "source": [
    "def init_purchase_operation_model(\n",
    "    name, level, epsilon_decay, rho_mode=1,\n",
    "):\n",
    "    k_model = init_purchase_model(\n",
    "        name=name,\n",
    "        loss=\"categorical_crossentropy\",\n",
    "        optimizer=\"adam\",\n",
    "    )\n",
    "    om = OperationModel(\n",
    "        model=k_model,\n",
    "        input_dimensions=[393],\n",
    "        output_dimensions=[2],\n",
    "        operation=\"purchase\",\n",
    "        name=name,\n",
    "        loss=\"categorical_crossentropy\",\n",
    "        optimizer=\"adam\",\n",
    "        true_threshold=0.5,\n",
    "        single_label=True,\n",
    "        rho=level,\n",
    "        rho_mode=rho_mode,\n",
    "        gamma=0.7,\n",
    "        epsilon_decay=epsilon_decay,\n",
    "    )\n",
    "\n",
    "    return om\n"
   ]
  },
  {
   "cell_type": "code",
   "execution_count": 43,
   "metadata": {},
   "outputs": [],
   "source": [
    "def init_purchase_model(input_shape=(393,), name=None, loss=\"categorical_crossentropy\", optimizer=\"adam\"):\n",
    "    model = Sequential(name=name + \"_purchase\")\n",
    "    model.add(Dense(input_shape=input_shape, units=256, activation=\"relu\"))\n",
    "    model.add(Dropout(0.25))\n",
    "    model.add(Dense(units=128, activation=\"relu\"))\n",
    "    model.add(Dropout(0.25))\n",
    "    model.add(Dense(units=64, activation=\"relu\"))\n",
    "    model.add(Dropout(0.3))\n",
    "    model.add(Dense(units=32, activation=\"relu\"))\n",
    "    model.add(Dropout(0.35))\n",
    "    model.add(Dense(units=2, activation=\"softmax\"))\n",
    "\n",
    "    model.compile(loss=loss, optimizer=optimizer, metrics=[\"accuracy\"])\n",
    "        \n",
    "    return model"
   ]
  },
  {
   "cell_type": "code",
   "execution_count": 44,
   "metadata": {},
   "outputs": [],
   "source": [
    "def init_up_down_grade_operation_model(\n",
    "    name, level, epsilon_decay\n",
    "):\n",
    "    k_model = init_up_down_grade_model(\n",
    "        name=name, loss=\"mse\", optimizer=\"adam\"\n",
    "    )\n",
    "    om = OperationModel(\n",
    "        model=k_model,\n",
    "        operation=\"up_down_grade\",\n",
    "        name=name,\n",
    "        loss=\"mse\",\n",
    "        optimizer=\"adam\",\n",
    "        true_threshold=0.5,\n",
    "        single_label=True,\n",
    "        rho=level,\n",
    "        rho_mode=1,\n",
    "        gamma=0.7,\n",
    "        epsilon_decay=epsilon_decay,\n",
    "    )\n",
    "\n",
    "    return om\n"
   ]
  },
  {
   "cell_type": "code",
   "execution_count": 45,
   "metadata": {},
   "outputs": [],
   "source": [
    "def init_up_down_grade_model(input_shape=(393,), name=None, loss=\"mse\", optimizer=\"adam\"):\n",
    "    model = Sequential(name=name + \"_up_down_grade\")\n",
    "    model.add(Dense(input_shape=input_shape, units=256, activation=\"tanh\"))\n",
    "    model.add(Dropout(0.2))\n",
    "    model.add(Dense(units=128, activation=\"tanh\"))\n",
    "    model.add(Dropout(0.1))\n",
    "    model.add(Dense(units=64, activation=\"tanh\"))\n",
    "    model.add(Dropout(0.1))\n",
    "    model.add(Dense(units=64, activation=\"tanh\"))\n",
    "    model.add(Dropout(0.1))\n",
    "    model.add(Dense(units=57, activation=\"linear\"))\n",
    "    \n",
    "    model.compile(loss=\"mse\", optimizer=\"adam\", metrics=[\"accuracy\"])\n",
    "        \n",
    "    return model\n",
    "                             "
   ]
  },
  {
   "cell_type": "code",
   "execution_count": 46,
   "metadata": {},
   "outputs": [],
   "source": [
    "def init_trade_offer_operation_model(name, level=3):\n",
    "    k_model = init_trade_offer_model(name=name)\n",
    "    om = OperationModel(\n",
    "        model=k_model,\n",
    "        operation=\"trade_offer\",\n",
    "        name=name,\n",
    "        loss=\"mse\",\n",
    "        optimizer=\"adam\",\n",
    "        true_threshold=0.5,\n",
    "        single_label=False,\n",
    "        rho=level,\n",
    "        rho_mode=1,\n",
    "        gamma=0.7,\n",
    "    )\n",
    "\n",
    "    return om\n"
   ]
  },
  {
   "cell_type": "code",
   "execution_count": 47,
   "metadata": {},
   "outputs": [],
   "source": [
    "def init_trade_offer_model(input_shape=(616,), name=None):\n",
    "    \n",
    "    inp = Input(input_shape)\n",
    "    \n",
    "    x_0 = Dense(256, activation=\"relu\")(inp)\n",
    "    x_0 = Dropout(0.2)(x_0)\n",
    "    x_0 = Dense(128, activation=\"relu\")(x_0)\n",
    "    x_0 = Dropout(0.2)(x_0)\n",
    "    x_0 = Dense(64, activation=\"relu\")(x_0)\n",
    "    x_0 = Dropout(0.2)(x_0)\n",
    "    #m_x0 = Model(inputs=inp_0, outputs=x_0)\n",
    "    \n",
    "    y_0 = Dense(256, activation=\"relu\")(inp)\n",
    "    #y_0 = Dropout(0.2)(y_0)\n",
    "    y_0 = Dense(128, activation=\"relu\")(y_0)\n",
    "    #y_0 = Dropout(0.2)(y_0)\n",
    "    y_0 = Dense(64, activation=\"relu\")(y_0)\n",
    "    #y_0 = Dropout(0.2)(y_0)\n",
    "    #m_y0 = Model(inputs=inp_0, outputs=y_0)\n",
    "    \n",
    "    c_0 = concatenate([x_0, y_0])\n",
    "    \n",
    "    x_1 = Dense(64, activation=\"relu\")(c_0)\n",
    "    x_1 = Dropout(0.2)(x_1)\n",
    "    x_1 = Dense(56, activation=\"relu\")(x_1)\n",
    "    x_1 = Dropout(0.2)(x_1)\n",
    "    x_1 = Dense(56, activation=\"relu\")(x_1)\n",
    "    \n",
    "    y_1 = Dense(64, activation=\"relu\")(c_0)\n",
    "    #y_1 = Dropout(0.2)(y_1)\n",
    "    y_1 = Dense(16, activation=\"relu\")(y_1)\n",
    "    #y_1 = Dropout(0.2)(y_1)\n",
    "    y_1 = Dense(4)(y_1)\n",
    "    \n",
    "    c_1 = concatenate([x_1, y_1])\n",
    "    \n",
    "    x_2 = Dense(56, activation=\"relu\")(c_1)\n",
    "    x_2 = Dropout(0.2)(x_2)\n",
    "    x_2 = Dense(56, activation=\"relu\")(x_2)\n",
    "    \n",
    "    y_2 = Dense(32, activation=\"relu\")(c_1)\n",
    "    #y_2 = Dropout(0.2)(y_2)\n",
    "    y_2 = Dense(4, activation=\"relu\")(y_2)\n",
    "    y_2 = Dense(1, activation=\"linear\")(y_2)\n",
    "    \n",
    "    model = Model(inp, [x_2, y_2], name=name + \"_trade_offer\")\n",
    "    \n",
    "    model.compile(loss=[\"categorical_crossentropy\", \"mse\"], optimizer=\"adam\", metrics=[\"accuracy\"])\n",
    "        \n",
    "    return model"
   ]
  },
  {
   "cell_type": "code",
   "execution_count": 48,
   "metadata": {},
   "outputs": [],
   "source": [
    "def init_trade_decision_operation_model(name, level=3):\n",
    "    k_model = init_trade_decision_model(name=name, loss=\"mse\", optimizer=\"adam\")\n",
    "    om = OperationModel(model=k_model, operation=\"trade_decision\", name=name,loss=\"mse\", \n",
    "                        optimizer=\"adam\", true_threshold=0.5, single_label=True, \n",
    "                        rho=level, rho_mode=1, gamma=0.7)\n",
    "    return om"
   ]
  },
  {
   "cell_type": "code",
   "execution_count": 49,
   "metadata": {},
   "outputs": [],
   "source": [
    "def init_trade_decision_model(input_shape=(700,), name=None, loss=\"mse\", optimizer=\"adam\"):\n",
    "    model = Sequential(name=name + \"_trade_decision\")\n",
    "    model.add(Dense(input_shape=input_shape, units=256, activation=\"tanh\"))\n",
    "    model.add(Dropout(0.2))\n",
    "    model.add(Dense(units=128, activation=\"tanh\"))\n",
    "    model.add(Dropout(0.1))\n",
    "    model.add(Dense(units=64, activation=\"tanh\"))\n",
    "    model.add(Dropout(0.1))\n",
    "    model.add(Dense(units=2, activation=\"tanh\"))\n",
    "    model.add(Dropout(0.1))\n",
    "    model.add(Dense(units=1, activation=\"linear\"))\n",
    "    \n",
    "    model.compile(loss=\"mse\", optimizer=\"adam\", metrics=[\"accuracy\"])\n",
    "\n",
    "        \n",
    "    return model"
   ]
  },
  {
   "cell_type": "markdown",
   "metadata": {},
   "source": [
    "## Get new pool"
   ]
  },
  {
   "cell_type": "code",
   "execution_count": 50,
   "metadata": {},
   "outputs": [],
   "source": [
    "from random import sample\n",
    "\n",
    "def get_new_pool(size, random=False, extend=None):\n",
    "\n",
    "    colors = ['Amaranth','Amber','Amethyst','Apricot','Aquamarine',\n",
    "          'Azure','Baby-blue','Beige','Black','Blue','Blue-green',\n",
    "          'Blue-violet','Blush','Bronze','Brown','Burgundy',\n",
    "          'Byzantium','Carmine','Cerise','Cerulean','Champagne',\n",
    "          'Chartreuse-green','Chocolate','Cobalt-blue','Coffee',\n",
    "          'Copper','Coral','Crimson','Cyan','Desert-sand',\n",
    "          'Electric-blue','Emerald','Erin','Gold','Gray','Green',\n",
    "          'Harlequin','Indigo','Ivory','Jade','Jungle-green',\n",
    "          'Lavender','Lemon','Lilac','Lime','Magenta','Magenta-rose',\n",
    "          'Maroon','Mauve','Navy-blue','Ocher','Olive','Orange',\n",
    "          'Orange-red','Orchid','Peach','Pear','Periwinkle',\n",
    "          'Persian-blue','Pink','Plum','Prussian-blue','Puce',\n",
    "          'Purple','Raspberry','Red','Red-violet','Rose','Ruby',\n",
    "          'Salmon','Sangria','Sapphire','Scarlet','Silver',\n",
    "          'Slate-gray','Spring-bud','Spring-green','Tan','Taupe',\n",
    "          'Teal','Turquoise','Ultramarine','Violet','Viridian',\n",
    "          'White','Yellow']\n",
    "    \n",
    "    if extend is None:\n",
    "        if size > len(colors):\n",
    "            raise ValueError\n",
    "        \n",
    "        sam = sample(colors, size)\n",
    "        pool = []\n",
    "    else:\n",
    "        if size + len(extend) > len(colors):\n",
    "            raise ValueError\n",
    "        \n",
    "        extend_names = [p.name for p in extend]\n",
    "        r_colors = [color for color in colors if color not in extend_names]\n",
    "        sam = sample(r_colors, size)\n",
    "\n",
    "        pool = extend\n",
    "    \n",
    "    for color in sam:\n",
    "        p_m = init_purchase_operation_model(color, np.random.randint(1,6), epsilon_decay=0.995, rho_mode=1)\n",
    "        u_m = init_up_down_grade_operation_model(color, np.random.randint(1,6), epsilon_decay=0.997)\n",
    "        t_o_m = init_trade_offer_operation_model(color, np.random.randint(1,6))\n",
    "        t_d_m = init_trade_decision_operation_model(color, np.random.randint(1,6))\n",
    "        \n",
    "        pool.append(Agent(color, p_m, u_m, t_o_m, t_d_m))\n",
    "    \n",
    "    return pool\n",
    "    "
   ]
  },
  {
   "cell_type": "code",
   "execution_count": 51,
   "metadata": {},
   "outputs": [],
   "source": [
    "def add_new_operation_model(player, purchase=True, up_down_grade=True, trade_offer=True, trade_decision=True):\n",
    "    color = player.name\n",
    "    if purchase:\n",
    "        p_m = init_purchase_operation_model(color)\n",
    "        player.models[\"purchase\"] = p_m\n",
    "        \n",
    "    if up_down_grade:\n",
    "        u_m = init_up_down_grade_operation_model(color)\n",
    "        player.models[\"up_down_grade\"] = u_m\n",
    "        \n",
    "    if trade_offer:\n",
    "        t_o_m = init_trade_offer_operation_model(color)\n",
    "        player.models[\"trade_offer\"] = t_o_m\n",
    "        \n",
    "    if trade_decision:\n",
    "        t_d_m = init_trade_decision_operation_model(color)\n",
    "        player.models[\"trade_decision\"] =  t_d_m\n",
    "        \n",
    "    #return player"
   ]
  },
  {
   "cell_type": "markdown",
   "metadata": {},
   "source": [
    "## Setup Launch"
   ]
  },
  {
   "cell_type": "code",
   "execution_count": 102,
   "metadata": {},
   "outputs": [],
   "source": [
    "def run_game(\n",
    "    controller, \n",
    "    iterations, \n",
    "    purchase=True, \n",
    "    up=True, \n",
    "    trade=True, \n",
    "    game_results=True,\n",
    "    verbose=False):\n",
    "    dfs = []\n",
    "    for i in range(iterations):\n",
    "        if verbose:\n",
    "            clear_output(wait=True)\n",
    "            \n",
    "        results = controller.start_game(purchase=purchase,up_down_grade=up, trade=trade)\n",
    "        dfs.append(pd.DataFrame.from_dict(results))\n",
    "        controller.reset_game()\n",
    "        \n",
    "        if verbose:\n",
    "            print(\"Current progress:\", np.round(((i+1)/iterations) * 100, 2), \"%\")\n",
    "        \n",
    "    if game_results:\n",
    "        summary = pd.concat(dfs,axis=1)\n",
    "        summary = summary.T\n",
    "        summary.reset_index(drop=True, inplace=True)\n",
    "        return summary\n",
    "        "
   ]
  },
  {
   "cell_type": "code",
   "execution_count": 101,
   "metadata": {},
   "outputs": [],
   "source": [
    "def run_games(bcs, iterations=3, up=True, trade=True, results=True, graph=True):\n",
    "    summary_dfs = []\n",
    "    #summary_logs = []\n",
    "    plt.close(\"all\")\n",
    "    \n",
    "    for bc in bcs:\n",
    "        print(list(bc.players.keys()))\n",
    "        #print(bc.dynamic_reward_risk_level)\n",
    "        summary = run_game(bc, iterations, up=up, trade=trade, game_results=results)\n",
    "        \n",
    "        if results and graph:\n",
    "            graph_owned(summary, str(list(bc.players.keys())))\n",
    "            if up:\n",
    "                graph_level(summary, str(list(bc.players.keys())))\n",
    "            \n",
    "        summary_dfs.append(summary)\n",
    "        #summary_logs.append(logs)\n",
    "        \n",
    "    return summary_dfs"
   ]
  },
  {
   "cell_type": "code",
   "execution_count": 68,
   "metadata": {},
   "outputs": [],
   "source": [
    "def graph_level(summary, name, save=False):\n",
    "    x = summary.index\n",
    "    y = summary[\"prop_average_level\"]\n",
    "    \n",
    "    labels, levels = pd.factorize(summary[\"name\"])\n",
    "    colors = labels * (100 / (len(summary[\"name\"].unique())))\n",
    "\n",
    "    plt.figure(figsize=(20,10))\n",
    "    plt.scatter(x, y, alpha=0.4, c=colors, cmap='plasma')\n",
    "    plt.xlim(0, len(summary))\n",
    "    plt.ylim(0, 6)\n",
    "    plt.title = name + \" level\"\n",
    "\n",
    "    z = np.polyfit(x, y, 1)\n",
    "    p = np.poly1d(z)\n",
    "    plt.plot(x,p(x),\"r--\")\n",
    "\n",
    "    if save:\n",
    "        plt.savefig(str(list(bc.players.keys())) + \".png\", bbox_inches='tight')"
   ]
  },
  {
   "cell_type": "code",
   "execution_count": 98,
   "metadata": {},
   "outputs": [],
   "source": [
    "def graph_owned(summary, name, save=False):\n",
    "    x = summary.index.values\n",
    "    y = summary[\"prop_owned\"].values\n",
    "    \n",
    "    labels, levels = pd.factorize(summary[\"name\"])\n",
    "    colors = labels * (100 / (len(summary[\"name\"].unique())))\n",
    "    size = summary[\"prop_average_level\"].values * 100\n",
    "\n",
    "    plt.figure(figsize=(20,10))\n",
    "    plt.title = name + \" owned\"\n",
    "    plt.scatter(x, y, c=colors, s=size.tolist(), alpha=0.4, cmap='plasma')\n",
    "    plt.xlim(0, len(summary))\n",
    "    plt.ylim(0, 28)\n",
    "    \n",
    "    \n",
    "    #z = np.polyfit(np.asarray(x), np.asarray(y), 1)\n",
    "    #p = np.poly1d(z)\n",
    "    #plt.plot(x,p(x),\"r--\")\n",
    "\n",
    "    if save:\n",
    "        plt.savefig(str(list(bc.players.keys())) + \".png\", bbox_inches='tight')"
   ]
  },
  {
   "cell_type": "markdown",
   "metadata": {},
   "source": [
    "## Launch"
   ]
  },
  {
   "cell_type": "code",
   "execution_count": 77,
   "metadata": {},
   "outputs": [],
   "source": [
    "pool = [\n",
    "    Agent(\"blue\", init_purchase_operation_model(name=\"blue\", level=3, epsilon_decay=0.995)),\n",
    "    Agent(\"red\", init_purchase_operation_model(name=\"red\", level=3, epsilon_decay=0.995))\n",
    "]"
   ]
  },
  {
   "cell_type": "code",
   "execution_count": 78,
   "metadata": {},
   "outputs": [
    {
     "data": {
      "text/plain": [
       "[Agent, 'blue', [OperationModel(name: 'blue', operation: 'purchase', trained episodes: 0, epsilon: 1.0, running reward: 0)],\n",
       " Agent, 'red', [OperationModel(name: 'red', operation: 'purchase', trained episodes: 0, epsilon: 1.0, running reward: 0)]]"
      ]
     },
     "execution_count": 78,
     "metadata": {},
     "output_type": "execute_result"
    }
   ],
   "source": [
    "pool"
   ]
  },
  {
   "cell_type": "code",
   "execution_count": 115,
   "metadata": {},
   "outputs": [],
   "source": [
    "contr = get_game_controllers(\n",
    "    pool=pool, \n",
    "    n_players=1, \n",
    "    config={\n",
    "        \"reward_scalars\":{\n",
    "            \"cash\": 0.005, \n",
    "            \"value\": 0.01, \n",
    "            \"rent\": 0.005, \n",
    "            \"monopoly\": 1.0\n",
    "        }\n",
    "    }\n",
    ")"
   ]
  },
  {
   "cell_type": "code",
   "execution_count": 116,
   "metadata": {},
   "outputs": [
    {
     "name": "stdout",
     "output_type": "stream",
     "text": [
      "['red']\n",
      "['blue']\n"
     ]
    },
    {
     "data": {
      "image/png": "[encoded data removed]",
      "text/plain": [
       "<Figure size 1440x720 with 1 Axes>"
      ]
     },
     "metadata": {
      "needs_background": "light"
     },
     "output_type": "display_data"
    },
    {
     "data": {
      "image/png": "[encoded data removed]",
      "text/plain": [
       "<Figure size 1440x720 with 1 Axes>"
      ]
     },
     "metadata": {
      "needs_background": "light"
     },
     "output_type": "display_data"
    }
   ],
   "source": [
    "summary_dfs = run_games(contr, iterations=10, up=False, trade=False, results=True)"
   ]
  },
  {
   "cell_type": "code",
   "execution_count": null,
   "metadata": {},
   "outputs": [],
   "source": [
    "for df in summary_dfs:\n",
    "    print(df[\"name\"].unique(), df[\"prop_average_level\"].mean())"
   ]
  },
  {
   "cell_type": "code",
   "execution_count": null,
   "metadata": {},
   "outputs": [],
   "source": [
    "def get_ranked_names(summaries, category, threshold):\n",
    "    l = [(s[\"name\"].unique()[0], s[category].mean()) for s in summaries]\n",
    "    s_names = sorted(l, reverse=True, key=lambda x: x[1])\n",
    "    \n",
    "    reduced = [name[0] for name in s_names if name[1] > threshold]\n",
    "    \n",
    "    return reduced"
   ]
  },
  {
   "cell_type": "markdown",
   "metadata": {},
   "source": [
    "## Testing"
   ]
  },
  {
   "cell_type": "code",
   "execution_count": 29,
   "metadata": {},
   "outputs": [],
   "source": [
    "b = Board(\"red\",\"blue\")"
   ]
  },
  {
   "cell_type": "code",
   "execution_count": 33,
   "metadata": {},
   "outputs": [],
   "source": [
    "a1 = b.get_general_state()"
   ]
  },
  {
   "cell_type": "code",
   "execution_count": 34,
   "metadata": {},
   "outputs": [],
   "source": [
    "a2 = b.get_player_state(\"red\")"
   ]
  },
  {
   "cell_type": "code",
   "execution_count": 36,
   "metadata": {},
   "outputs": [
    {
     "data": {
      "text/plain": [
       "(393,)"
      ]
     },
     "execution_count": 36,
     "metadata": {},
     "output_type": "execute_result"
    }
   ],
   "source": [
    "np.concatenate([a1, a2]).shape"
   ]
  },
  {
   "cell_type": "code",
   "execution_count": 82,
   "metadata": {},
   "outputs": [],
   "source": [
    "agent = pool[0]"
   ]
  },
  {
   "cell_type": "code",
   "execution_count": 87,
   "metadata": {},
   "outputs": [],
   "source": [
    "agent.models[\"purchase\"]"
   ]
  },
  {
   "cell_type": "code",
   "execution_count": null,
   "metadata": {},
   "outputs": [],
   "source": []
  }
 ],
 "metadata": {
  "kernelspec": {
   "display_name": "Python 3",
   "language": "python",
   "name": "python3"
  },
  "language_info": {
   "codemirror_mode": {
    "name": "ipython",
    "version": 3
   },
   "file_extension": ".py",
   "mimetype": "text/x-python",
   "name": "python",
   "nbconvert_exporter": "python",
   "pygments_lexer": "ipython3",
   "version": "3.6.7"
  }
 },
 "nbformat": 4,
 "nbformat_minor": 2
}
